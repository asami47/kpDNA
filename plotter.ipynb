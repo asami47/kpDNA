{
 "cells": [
  {
   "cell_type": "code",
   "execution_count": 2,
   "metadata": {},
   "outputs": [
    {
     "name": "stdout",
     "output_type": "stream",
     "text": [
      "0    0060A5\n",
      "1    0068B2\n",
      "2    004A7F\n",
      "3    0077CC\n",
      "4    73739C\n",
      "Name: 005999, dtype: object\n"
     ]
    },
    {
     "data": {
      "text/plain": [
       "'tsne_2d_plot.html'"
      ]
     },
     "execution_count": 2,
     "metadata": {},
     "output_type": "execute_result"
    }
   ],
   "source": [
    "import pandas as pd\n",
    "from sklearn.manifold import TSNE\n",
    "import plotly.graph_objs as go\n",
    "import plotly.offline as py\n",
    "\n",
    "\n",
    "file_path = 'C:/Users/asami/Desktop/lol2.csv'  \n",
    "data = pd.read_csv(file_path)\n",
    "\n",
    "print(data.iloc[:5, 0])\n",
    "\n",
    "data.iloc[:, 0] = data.iloc[:, 0].apply(lambda x: '#' + x.strip() if not x.startswith('#') else x.strip())\n",
    "\n",
    "hex_codes = data.iloc[:, 0]  \n",
    "names = data.iloc[:, 1]      \n",
    "features = data.iloc[:, 2:]  \n",
    "\n",
    "tsne = TSNE(n_components=2, random_state=64)\n",
    "tsne_results = tsne.fit_transform(features)\n",
    "\n",
    "\n",
    "trace = go.Scatter(\n",
    "    x=tsne_results[:, 0],\n",
    "    y=tsne_results[:, 1],\n",
    "    mode='markers',\n",
    "    text=names,\n",
    "    marker=dict(\n",
    "        size=8,\n",
    "        color=hex_codes.tolist(),  \n",
    "        line=dict(width=2, color='DarkSlateGrey')\n",
    "    ),\n",
    "    hoverinfo='text'\n",
    ")\n",
    "\n",
    "layout = go.Layout(\n",
    "    title='2D t-SNE Plot',\n",
    "    xaxis=dict(title='Component 1'),\n",
    "    yaxis=dict(title='Component 2'),\n",
    "    hovermode='closest'\n",
    ")\n",
    "\n",
    "fig = go.Figure(data=[trace], layout=layout)\n",
    "py.plot(fig, filename='tsne_2d_plot.html')  \n"
   ]
  },
  {
   "cell_type": "code",
   "execution_count": 23,
   "metadata": {},
   "outputs": [
    {
     "data": {
      "text/plain": [
       "'pca_plot.html'"
      ]
     },
     "execution_count": 23,
     "metadata": {},
     "output_type": "execute_result"
    }
   ],
   "source": [
    "import pandas as pd\n",
    "import plotly.graph_objs as go\n",
    "import plotly.offline as py\n",
    "from sklearn.decomposition import PCA\n",
    "from sklearn.preprocessing import StandardScaler\n",
    "\n",
    "file_path = ''\n",
    "data = pd.read_csv(file_path)\n",
    "\n",
    "\n",
    "data.iloc[:, 0] = data.iloc[:, 0].apply(lambda x: '#' + x.strip() if not x.startswith('#') else x.strip())\n",
    "\n",
    "hex_codes = data.iloc[:, 0].tolist()  \n",
    "names = data.iloc[:, 1].tolist()\n",
    "features = data.iloc[:, 2:]  \n",
    "\n",
    "scaler = StandardScaler()\n",
    "features_scaled = scaler.fit_transform(features)\n",
    "\n",
    "# Perform PCA\n",
    "pca = PCA(n_components=2)  \n",
    "principal_components = pca.fit_transform(features_scaled)\n",
    "\n",
    "trace = go.Scatter(\n",
    "    x=principal_components[:, 0],\n",
    "    y=principal_components[:, 1],\n",
    "    mode='markers',\n",
    "    text=names,\n",
    "    marker=dict(\n",
    "        size=8,\n",
    "        color=hex_codes,  \n",
    "        line=dict(width=2, color='DarkSlateGrey')\n",
    "    ),\n",
    "    hoverinfo='text'\n",
    ")\n",
    "\n",
    "layout = go.Layout(\n",
    "    title='PCA Plot',\n",
    "    xaxis=dict(title='Principal Component 1'),\n",
    "    yaxis=dict(title='Principal Component 2'),\n",
    "    hovermode='closest'\n",
    ")\n",
    "\n",
    "fig = go.Figure(data=[trace], layout=layout)\n",
    "py.plot(fig, filename='pca_plot.html')  \n"
   ]
  }
 ],
 "metadata": {
  "kernelspec": {
   "display_name": "Python 3",
   "language": "python",
   "name": "python3"
  },
  "language_info": {
   "codemirror_mode": {
    "name": "ipython",
    "version": 3
   },
   "file_extension": ".py",
   "mimetype": "text/x-python",
   "name": "python",
   "nbconvert_exporter": "python",
   "pygments_lexer": "ipython3",
   "version": "3.10.0"
  }
 },
 "nbformat": 4,
 "nbformat_minor": 2
}
